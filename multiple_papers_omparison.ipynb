{
 "cells": [
  {
   "cell_type": "code",
   "execution_count": 1,
   "metadata": {},
   "outputs": [],
   "source": [
    "from langchain.agents import Tool\n",
    "from langchain.chains import RetrievalQA\n",
    "from langchain.text_splitter import CharacterTextSplitter\n",
    "from langchain.document_loaders import PyPDFLoader\n",
    "from langchain.vectorstores import FAISS\n",
    "from langchain.chat_models import ChatOpenAI\n",
    "from langchain.embeddings.openai import OpenAIEmbeddings\n",
    "from pydantic import BaseModel, Field"
   ]
  },
  {
   "cell_type": "code",
   "execution_count": 2,
   "metadata": {},
   "outputs": [],
   "source": [
    "import os\n",
    "os.environ[\"OPENAI_API_KEY\"] = \"your key\"\n",
    "os.environ[\"GOOGLE_CSE_ID\"] = \"your id\"\n",
    "os.environ[\"GOOGLE_API_KEY\"] = \"your key\""
   ]
  },
  {
   "cell_type": "code",
   "execution_count": 3,
   "metadata": {},
   "outputs": [],
   "source": [
    "from langchain.document_loaders import ArxivLoader"
   ]
  },
  {
   "cell_type": "markdown",
   "metadata": {},
   "source": [
    "## Arxivにおける論文の検索とデータの抽出"
   ]
  },
  {
   "cell_type": "code",
   "execution_count": 4,
   "metadata": {},
   "outputs": [
    {
     "name": "stderr",
     "output_type": "stream",
     "text": [
      "/Users/nagayoshi3/.pyenv/versions/anaconda3-2020.07/envs/langchain_book_master/lib/python3.11/site-packages/langchain_core/_api/deprecation.py:117: LangChainDeprecationWarning: The class `langchain_community.chat_models.openai.ChatOpenAI` was deprecated in langchain-community 0.0.10 and will be removed in 0.2.0. An updated version of the class exists in the langchain-openai package and should be used instead. To use it run `pip install -U langchain-openai` and import as `from langchain_openai import ChatOpenAI`.\n",
      "  warn_deprecated(\n",
      "/Users/nagayoshi3/.pyenv/versions/anaconda3-2020.07/envs/langchain_book_master/lib/python3.11/site-packages/langchain_core/_api/deprecation.py:117: LangChainDeprecationWarning: The class `langchain_community.embeddings.openai.OpenAIEmbeddings` was deprecated in langchain-community 0.1.0 and will be removed in 0.2.0. An updated version of the class exists in the langchain-openai package and should be used instead. To use it run `pip install -U langchain-openai` and import as `from langchain_openai import OpenAIEmbeddings`.\n",
      "  warn_deprecated(\n"
     ]
    }
   ],
   "source": [
    "class DocumentInput(BaseModel):\n",
    "    question: str = Field()\n",
    "\n",
    "llm = ChatOpenAI(temperature=0, model=\"gpt-3.5-turbo-0613\")\n",
    "\n",
    "name1 = \"Chain-of-Thought Prompting Elicits Reasoning in Large Language Models\"\n",
    "no1 = \"2201.11903\"\n",
    "name2 = \"ReAct: Synergizing Reasoning and Acting in Language Models\"\n",
    "no2 = \"2210.03629\"\n",
    "\n",
    "tools = []\n",
    "files = [\n",
    "    {\n",
    "        \"name\": name1[:5],\n",
    "        \"no\": no1,\n",
    "    },\n",
    "    {\n",
    "        \"name\": name2[:5],\n",
    "        \"no\": no2,\n",
    "    },\n",
    "]\n",
    "\n",
    "for file in files:\n",
    "    pages = ArxivLoader(file[\"no\"], load_max_docs=2).load_and_split()\n",
    "    text_splitter = CharacterTextSplitter(chunk_size=1000, chunk_overlap=0)\n",
    "    docs = text_splitter.split_documents(pages)\n",
    "    embeddings = OpenAIEmbeddings()\n",
    "    retriever = FAISS.from_documents(docs, embeddings).as_retriever()\n",
    "\n",
    "    tools.append(\n",
    "        Tool(\n",
    "            args_schema=DocumentInput,\n",
    "            name=file[\"name\"],\n",
    "            description=f\"useful when you want to answer questions about {file['name']}\",\n",
    "            func=RetrievalQA.from_chain_type(llm=llm, retriever=retriever),\n",
    "        )\n",
    "    )"
   ]
  },
  {
   "cell_type": "markdown",
   "metadata": {},
   "source": [
    "## LLMによる検索"
   ]
  },
  {
   "cell_type": "code",
   "execution_count": 5,
   "metadata": {},
   "outputs": [],
   "source": [
    "from langchain.agents import AgentType, initialize_agent"
   ]
  },
  {
   "cell_type": "code",
   "execution_count": 6,
   "metadata": {},
   "outputs": [
    {
     "name": "stderr",
     "output_type": "stream",
     "text": [
      "/Users/nagayoshi3/.pyenv/versions/anaconda3-2020.07/envs/langchain_book_master/lib/python3.11/site-packages/langchain_core/_api/deprecation.py:117: LangChainDeprecationWarning: The function `initialize_agent` was deprecated in LangChain 0.1.0 and will be removed in 0.2.0. Use Use new agent constructor methods like create_react_agent, create_json_agent, create_structured_chat_agent, etc. instead.\n",
      "  warn_deprecated(\n",
      "/Users/nagayoshi3/.pyenv/versions/anaconda3-2020.07/envs/langchain_book_master/lib/python3.11/site-packages/langchain_core/_api/deprecation.py:117: LangChainDeprecationWarning: The function `__call__` was deprecated in LangChain 0.1.0 and will be removed in 0.2.0. Use invoke instead.\n",
      "  warn_deprecated(\n"
     ]
    },
    {
     "name": "stdout",
     "output_type": "stream",
     "text": [
      "\n",
      "\n",
      "\u001b[1m> Entering new AgentExecutor chain...\u001b[0m\n",
      "\u001b[32;1m\u001b[1;3m「Chain-of-Thought Prompting Elicits Reasoning in Large Language Models」と「ReAct: Synergizing Reasoning and Acting in Language Models」は、両方とも大規模な言語モデルにおける推論能力の向上を目指した研究です。具体的な共通点は以下の通りです：\n",
      "\n",
      "1. 目的：両研究は、言語モデルの推論能力を向上させることを目的としています。これにより、モデルがより複雑なタスクや問題に対してより洞察力のある回答を生成できるようになります。\n",
      "\n",
      "2. プロンプティング：両研究では、プロンプティングと呼ばれる手法が使用されています。プロンプティングは、モデルに対して特定の情報や質問を与えることで、推論や応答の品質を向上させるための手法です。\n",
      "\n",
      "3. 推論の促進：両研究では、推論を促進するための手法が提案されています。具体的には、Chain-of-Thought Promptingでは、モデルに対して連鎖的な質問を提示することで、推論の連続性を促します。一方、ReActでは、モデルに対して行動を促すための情報を与えることで、推論と行動の統合を図ります。\n",
      "\n",
      "4. モデルの改善：両研究では、提案された手法によって言語モデルの性能が向上することが示されています。具体的な改善点は研究ごとに異なりますが、いずれの手法も推論能力の向上に成功しています。\n",
      "\n",
      "以上が、「Chain-of-Thought Prompting Elicits Reasoning in Large Language Models」と「ReAct: Synergizing Reasoning and Acting in Language Models」の共通点です。\u001b[0m\n",
      "\n",
      "\u001b[1m> Finished chain.\u001b[0m\n",
      "\n",
      "\n",
      "\u001b[1m> Entering new AgentExecutor chain...\u001b[0m\n",
      "\u001b[32;1m\u001b[1;3m「Chain-of-Thought Prompting Elicits Reasoning in Large Language Models」と「ReAct: Synergizing Reasoning and Acting in Language Models」は、両方とも言語モデルの推論能力を向上させるための手法ですが、アプローチや目的にはいくつかの違いがあります。\n",
      "\n",
      "「Chain-of-Thought Prompting Elicits Reasoning in Large Language Models」は、言語モデルが推論を行う際に、連鎖的な思考を促すプロンプトを使用する手法です。具体的には、モデルに対して複数の質問を連続して提示し、前の質問の回答を次の質問の文脈として活用することで、より複雑な推論を行わせることができます。この手法は、モデルが長期的な文脈を理解し、推論を進める能力を向上させることを目指しています。\n",
      "\n",
      "一方、「ReAct: Synergizing Reasoning and Acting in Language Models」は、言語モデルが推論だけでなく、行動も行えるようにする手法です。具体的には、モデルに対して行動を指示するプロンプトを与えることで、モデルが推論結果を実際の行動に反映させることができます。この手法は、モデルが推論結果を実際のタスクに応用し、より実用的な応答を生成する能力を向上させることを目指しています。\n",
      "\n",
      "つまり、「Chain-of-Thought Prompting Elicits Reasoning in Large Language Models」は、推論の複雑さを増すために連鎖的な思考を促す手法であり、「ReAct: Synergizing Reasoning and Acting in Language Models」は、推論結果を実際の行動に反映させるための手法です。\u001b[0m\n",
      "\n",
      "\u001b[1m> Finished chain.\u001b[0m\n"
     ]
    },
    {
     "data": {
      "text/plain": [
       "{'input': 'Chain-of-Thought Prompting Elicits Reasoning in Large Language ModelsとReAct: Synergizing Reasoning and Acting in Language Modelsの違いについて教えてください。',\n",
       " 'output': '「Chain-of-Thought Prompting Elicits Reasoning in Large Language Models」と「ReAct: Synergizing Reasoning and Acting in Language Models」は、両方とも言語モデルの推論能力を向上させるための手法ですが、アプローチや目的にはいくつかの違いがあります。\\n\\n「Chain-of-Thought Prompting Elicits Reasoning in Large Language Models」は、言語モデルが推論を行う際に、連鎖的な思考を促すプロンプトを使用する手法です。具体的には、モデルに対して複数の質問を連続して提示し、前の質問の回答を次の質問の文脈として活用することで、より複雑な推論を行わせることができます。この手法は、モデルが長期的な文脈を理解し、推論を進める能力を向上させることを目指しています。\\n\\n一方、「ReAct: Synergizing Reasoning and Acting in Language Models」は、言語モデルが推論だけでなく、行動も行えるようにする手法です。具体的には、モデルに対して行動を指示するプロンプトを与えることで、モデルが推論結果を実際の行動に反映させることができます。この手法は、モデルが推論結果を実際のタスクに応用し、より実用的な応答を生成する能力を向上させることを目指しています。\\n\\nつまり、「Chain-of-Thought Prompting Elicits Reasoning in Large Language Models」は、推論の複雑さを増すために連鎖的な思考を促す手法であり、「ReAct: Synergizing Reasoning and Acting in Language Models」は、推論結果を実際の行動に反映させるための手法です。'}"
      ]
     },
     "execution_count": 6,
     "metadata": {},
     "output_type": "execute_result"
    }
   ],
   "source": [
    "llm = ChatOpenAI(\n",
    "    temperature=0,\n",
    "    model=\"gpt-3.5-turbo-0613\",\n",
    "#    model=\"gpt-4-1106-preview\",\n",
    ")\n",
    "\n",
    "agent = initialize_agent(\n",
    "    agent=AgentType.OPENAI_FUNCTIONS,\n",
    "    tools=tools,\n",
    "    llm=llm,\n",
    "    verbose=True,\n",
    ")\n",
    "\n",
    "agent({\"input\": f\"{name1}と{name2}の共通点について教えてください。\"})\n",
    "agent({\"input\": f\"{name1}と{name2}の違いについて教えてください。\"})"
   ]
  }
 ],
 "metadata": {
  "kernelspec": {
   "display_name": "langchain",
   "language": "python",
   "name": "python3"
  },
  "language_info": {
   "codemirror_mode": {
    "name": "ipython",
    "version": 3
   },
   "file_extension": ".py",
   "mimetype": "text/x-python",
   "name": "python",
   "nbconvert_exporter": "python",
   "pygments_lexer": "ipython3",
   "version": "3.11.7"
  }
 },
 "nbformat": 4,
 "nbformat_minor": 2
}
